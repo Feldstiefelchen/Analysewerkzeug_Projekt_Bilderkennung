{
 "cells": [
  {
   "cell_type": "code",
   "execution_count": 1,
   "metadata": {
    "collapsed": true
   },
   "outputs": [],
   "source": [
    "#Bilder herunterladen"
   ]
  },
  {
   "cell_type": "code",
   "execution_count": 15,
   "outputs": [],
   "source": [
    "import pandas as pd\n",
    "import urllib\n",
    "from skimage.metrics import structural_similarity as compare_ssim\n",
    "import argparse\n",
    "import imutils\n",
    "import cv2\n",
    "import os\n",
    "\n",
    "df = pd.read_csv('panini.csv', dtype=\"unicode\")\n",
    "df = df.fillna(\"\")\n",
    "\n",
    "df_neu = df[df[\"images_source\"].str.contains(\"http://laststicker.com/i/cards\")]\n",
    "\n",
    "df_geloescht = df_neu[~df_neu[[\"images_id\", \"images_source\"]].duplicated()]\n",
    "\n",
    "df2 = df_geloescht[~df_geloescht[\"items_name\"].str.contains(\n",
    "    \"Team|Stadium|Logo|Emblem|Poster|FIFA|Mascot|Official posters|Badge|Trophy|Intro|Flag|/|adidas\")]\n",
    "\n",
    "df3 = df2[~df2[\"section\"].str.contains(\n",
    "    \"FIFA|Official posters|Federations emblems|Checklist|Team|Stade|Stadiums|Introduction|Stadium|History|RARE / Invincible|Invincible|Group|Host cities' posters|International update|Venues|Extra stickers|Passion & Pride|Roll|Estadio|Hosts\")]\n",
    "\n",
    "#df4 = df3[~df3[\"collections_id\"].str.contains(\"29|34|35|77|100\")]\n",
    "df4 = df3[df3[\"collections_id\"].str.contains(\"25\")]\n",
    "df4[\"items_name\"]\n",
    "\n",
    "df_collection = df_geloescht[~df_geloescht[\"items_name\"].str.contains(\"Team|Stadium|Logo\")][\"collections_id\"].unique()\n",
    "df_collection\n",
    "\n",
    "df5 = df4[\"items_name\"].unique()[:200]\n",
    "df5\n",
    "\n",
    "i = 0\n",
    "\n",
    "for row in df5:\n",
    "    image_url = df4[\"images_source\"].values[i]\n",
    "    if os.path.isfile('Spieler/' + df4[\"items_name\"].values[i] + \".jpg\") == False:\n",
    "        save_name = 'Spieler/' + df4[\"items_name\"].values[i] + \".jpg\"  #local name to be saved\n",
    "        urllib.request.urlretrieve(image_url, save_name)\n",
    "    i += 1\n",
    "\n"
   ],
   "metadata": {
    "collapsed": false,
    "pycharm": {
     "name": "#%%\n"
    }
   }
  },
  {
   "cell_type": "code",
   "execution_count": null,
   "outputs": [],
   "source": [
    "#Erkennen des Spielers"
   ],
   "metadata": {
    "collapsed": false,
    "pycharm": {
     "name": "#%%\n"
    }
   }
  },
  {
   "cell_type": "code",
   "execution_count": 12,
   "outputs": [
    {
     "data": {
      "text/plain": "'Jordi Alba'"
     },
     "execution_count": 12,
     "metadata": {},
     "output_type": "execute_result"
    }
   ],
   "source": [
    "import numpy\n",
    "import requests\n",
    "\n",
    "dim = (60, 60)\n",
    "img = cv2.imread(\"bild.jpg\")\n",
    "img2 = cv2.resize(img, dim, interpolation=cv2.INTER_AREA)\n",
    "grayA = cv2.cvtColor(img2, cv2.COLOR_BGR2GRAY)\n",
    "j = 0\n",
    "erkannt = \"\"\n",
    "\n",
    "for row in df5:\n",
    "    spieler = str(j) + \" Spieler/\" + df5[j] + \".jpg\"\n",
    "    #print(spieler)\n",
    "    stream = open(\"Spieler/\" + df5[j] + \".jpg\", \"rb\")\n",
    "    bytes = bytearray(stream.read())\n",
    "    numpyarray = numpy.asarray(bytes, dtype=numpy.uint8)\n",
    "    bgrImage = cv2.imdecode(numpyarray, cv2.IMREAD_UNCHANGED)\n",
    "    dim = (60, 60)\n",
    "    bild2 = cv2.resize(bgrImage, dim, interpolation=cv2.INTER_AREA)\n",
    "    grayB = cv2.cvtColor(bild2, cv2.COLOR_BGR2GRAY)\n",
    "    (score, diff) = compare_ssim(grayA, grayB, full=True)\n",
    "    diff = (diff * 255).astype(\"uint8\")\n",
    "\n",
    "    if (score == 1.0):\n",
    "        erkannt = df5[j]\n",
    "        break\n",
    "\n",
    "    j += 1"
   ],
   "metadata": {
    "collapsed": false,
    "pycharm": {
     "name": "#%%\n"
    }
   }
  },
  {
   "cell_type": "code",
   "execution_count": null,
   "outputs": [],
   "source": [
    "#Anbindung an API"
   ],
   "metadata": {
    "collapsed": false,
    "pycharm": {
     "name": "#%%\n"
    }
   }
  },
  {
   "cell_type": "code",
   "execution_count": 13,
   "outputs": [
    {
     "name": "stdout",
     "output_type": "stream",
     "text": [
      "J. Alba Ramos\n",
      "21/03/1989\n"
     ]
    },
    {
     "data": {
      "text/plain": "{'player_id': 185530,\n 'team_id': 83,\n 'country_id': 32,\n 'position_id': 2,\n 'common_name': 'J. Alba Ramos',\n 'display_name': 'Jordi Alba',\n 'fullname': 'Jordi Alba Ramos',\n 'firstname': 'Jordi',\n 'lastname': 'Alba Ramos',\n 'nationality': 'Spain',\n 'birthdate': '21/03/1989',\n 'birthcountry': 'Spain',\n 'birthplace': \"L'Hospitalet de Llobregat\",\n 'height': '170 cm',\n 'weight': '68 kg',\n 'image_path': 'https://cdn.sportmonks.com/images/soccer/leagues/26/185530.png'}"
     },
     "execution_count": 13,
     "metadata": {},
     "output_type": "execute_result"
    }
   ],
   "source": [
    "request = \"https://soccer.sportmonks.com/api/v2.0/players/search/\" + erkannt + \"?api_token=U78MwhoR0QAN1B0qEpry96PQKpep8wUYbUmlCmRnRFXxu98KiEXzwlojj85h\"\n",
    "response2 = requests.get(request)\n",
    "response2.json()[\"data\"]\n",
    "\n",
    "#Aufteilen in Vor& Nachname\n",
    "namen = erkannt.split()\n",
    "namen[-1]\n",
    "\n",
    "match = []\n",
    "match1 = []\n",
    "\n",
    "for i in response2.json()[\"data\"]:\n",
    "    if i[\n",
    "        \"display_name\"] == erkannt:  #Wenn es exakt passt, dann wir das gleich übernommen. Sonst wird es auf Vor- und Nachname aufgesplittet\n",
    "        match = i\n",
    "    elif i[\"lastname\"].startswith(namen[-1]):  #Check Nachname\n",
    "        match1.append(i)  #Liste mit passenden Nachnamen\n",
    "        if i[\"firstname\"].startswith(namen[0]):\n",
    "            match.append(i)\n",
    "\n",
    "if len(match) == 0:\n",
    "    for i in match1:\n",
    "        if i[\"firstname\"].startswith(namen[0][0]):\n",
    "            match.append(i)\n",
    "\n",
    "print(match[\"common_name\"])\n",
    "print(match[\"birthdate\"])\n",
    "match"
   ],
   "metadata": {
    "collapsed": false,
    "pycharm": {
     "name": "#%%\n"
    }
   }
  },
  {
   "cell_type": "code",
   "execution_count": null,
   "outputs": [],
   "source": [],
   "metadata": {
    "collapsed": false,
    "pycharm": {
     "name": "#%%\n"
    }
   }
  }
 ],
 "metadata": {
  "kernelspec": {
   "display_name": "Python 3",
   "language": "python",
   "name": "python3"
  },
  "language_info": {
   "codemirror_mode": {
    "name": "ipython",
    "version": 2
   },
   "file_extension": ".py",
   "mimetype": "text/x-python",
   "name": "python",
   "nbconvert_exporter": "python",
   "pygments_lexer": "ipython2",
   "version": "2.7.6"
  }
 },
 "nbformat": 4,
 "nbformat_minor": 0
}